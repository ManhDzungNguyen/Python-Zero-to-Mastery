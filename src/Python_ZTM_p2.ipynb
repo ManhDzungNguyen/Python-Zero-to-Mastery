{
 "cells": [
  {
   "attachments": {},
   "cell_type": "markdown",
   "metadata": {},
   "source": [
    "### Scripting with Python\n"
   ]
  },
  {
   "attachments": {},
   "cell_type": "markdown",
   "metadata": {},
   "source": [
    "#### Images with Python\n"
   ]
  },
  {
   "attachments": {},
   "cell_type": "markdown",
   "metadata": {},
   "source": [
    "##### Basics"
   ]
  },
  {
   "cell_type": "code",
   "execution_count": 2,
   "metadata": {},
   "outputs": [],
   "source": [
    "from PIL import Image, ImageFilter\n",
    "\n",
    "img = Image.open(\"../image/Pokedex/pikachu.jpg\")\n",
    "\n",
    "gray_img = img.convert(\"L\")\n",
    "gray_img.save(\"../image/Pokedex/result/gray_pikachu.png\", \"png\")\n",
    "\n",
    "filtered_img = img.filter(ImageFilter.BLUR)\n",
    "filtered_img.save(\"../image/result/blur_pikachu.png\", \"png\")\n"
   ]
  },
  {
   "cell_type": "code",
   "execution_count": 4,
   "metadata": {},
   "outputs": [],
   "source": [
    "# resize but still keep aspect ratio\n",
    "img = Image.open(\"../image/others/img_0.jpeg\")\n",
    "img.thumbnail((200, 200))\n",
    "img.save(\"../image/result/img_0_resized.png\", \"png\")"
   ]
  },
  {
   "attachments": {},
   "cell_type": "markdown",
   "metadata": {},
   "source": [
    "##### JPG to PNG converter"
   ]
  },
  {
   "cell_type": "code",
   "execution_count": 10,
   "metadata": {},
   "outputs": [],
   "source": [
    "%run JPGtoPNGconverter ../image/Pokedex/ ../image/result"
   ]
  },
  {
   "attachments": {},
   "cell_type": "markdown",
   "metadata": {},
   "source": [
    "#### PDFs with Python"
   ]
  },
  {
   "cell_type": "code",
   "execution_count": null,
   "metadata": {},
   "outputs": [],
   "source": []
  }
 ],
 "metadata": {
  "kernelspec": {
   "display_name": "ds_ai",
   "language": "python",
   "name": "python3"
  },
  "language_info": {
   "codemirror_mode": {
    "name": "ipython",
    "version": 3
   },
   "file_extension": ".py",
   "mimetype": "text/x-python",
   "name": "python",
   "nbconvert_exporter": "python",
   "pygments_lexer": "ipython3",
   "version": "3.10.8"
  },
  "orig_nbformat": 4,
  "vscode": {
   "interpreter": {
    "hash": "1fa081b679b0f63b2f2f0f70f9fc1c841bcb0eba7eab191fad907465b7c6e48f"
   }
  }
 },
 "nbformat": 4,
 "nbformat_minor": 2
}
