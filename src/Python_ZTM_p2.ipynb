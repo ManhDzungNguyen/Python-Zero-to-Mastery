{
 "cells": [
  {
   "cell_type": "markdown",
   "metadata": {},
   "source": [
    "### Scripting with Python"
   ]
  },
  {
   "attachments": {},
   "cell_type": "markdown",
   "metadata": {},
   "source": [
    "#### Images with Python"
   ]
  },
  {
   "cell_type": "code",
   "execution_count": 5,
   "metadata": {},
   "outputs": [],
   "source": [
    "from PIL import Image, ImageFilter\n",
    "\n",
    "img = Image.open(\"./image/Pokedex/pikachu.jpg\")\n",
    "\n",
    "gray_img = img.convert(\"L\")\n",
    "gray_img.save(\"./image/Pokedex/result/gray_pikachu.png\", \"png\")\n",
    "\n",
    "filtered_img = img.filter(ImageFilter.BLUR)\n",
    "filtered_img.save(\"./image/Pokedex/result/blur_pikachu.png\", \"png\")"
   ]
  },
  {
   "cell_type": "code",
   "execution_count": null,
   "metadata": {},
   "outputs": [],
   "source": []
  }
 ],
 "metadata": {
  "kernelspec": {
   "display_name": "sendoenv",
   "language": "python",
   "name": "python3"
  },
  "language_info": {
   "codemirror_mode": {
    "name": "ipython",
    "version": 3
   },
   "file_extension": ".py",
   "mimetype": "text/x-python",
   "name": "python",
   "nbconvert_exporter": "python",
   "pygments_lexer": "ipython3",
   "version": "3.7.7"
  },
  "orig_nbformat": 4,
  "vscode": {
   "interpreter": {
    "hash": "801e6f9c3bf3192924f2c20ddae949050103f3bcc20e2486443a6ec0795d4b7f"
   }
  }
 },
 "nbformat": 4,
 "nbformat_minor": 2
}
