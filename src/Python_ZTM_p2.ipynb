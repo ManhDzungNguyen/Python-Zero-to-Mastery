{
 "cells": [
  {
   "attachments": {},
   "cell_type": "markdown",
   "metadata": {},
   "source": [
    "### Scripting with Python\n"
   ]
  },
  {
   "attachments": {},
   "cell_type": "markdown",
   "metadata": {},
   "source": [
    "#### Images with Python\n"
   ]
  },
  {
   "attachments": {},
   "cell_type": "markdown",
   "metadata": {},
   "source": [
    "##### Basics"
   ]
  },
  {
   "cell_type": "code",
   "execution_count": 5,
   "metadata": {},
   "outputs": [],
   "source": [
    "from PIL import Image, ImageFilter\n",
    "\n",
    "img = Image.open(\"./image/Pokedex/pikachu.jpg\")\n",
    "\n",
    "gray_img = img.convert(\"L\")\n",
    "gray_img.save(\"./image/result/gray_pikachu.png\", \"png\")\n",
    "\n",
    "filtered_img = img.filter(ImageFilter.BLUR)\n",
    "filtered_img.save(\"./image/result/blur_pikachu.png\", \"png\")\n"
   ]
  },
  {
   "cell_type": "code",
   "execution_count": 6,
   "metadata": {},
   "outputs": [],
   "source": [
    "# resize but still keep aspect ratio\n",
    "img = Image.open(\"./image/others/img_0.jpeg\")\n",
    "img.thumbnail((200, 200))\n",
    "img.save(\"./image/result/img_0_resized.png\", \"png\")"
   ]
  },
  {
   "attachments": {},
   "cell_type": "markdown",
   "metadata": {},
   "source": [
    "##### JPG to PNG converter"
   ]
  },
  {
   "cell_type": "code",
   "execution_count": 4,
   "metadata": {},
   "outputs": [],
   "source": [
    "%run ./image/JPGtoPNGconverter ./image/Pokedex/ ./image/result"
   ]
  },
  {
   "cell_type": "markdown",
   "metadata": {},
   "source": []
  },
  {
   "attachments": {},
   "cell_type": "markdown",
   "metadata": {},
   "source": [
    "#### PDFs with Python"
   ]
  },
  {
   "cell_type": "code",
   "execution_count": 8,
   "metadata": {},
   "outputs": [],
   "source": [
    "import PyPDF2\n",
    "\n",
    "with open('./pdf/sample/dummy.pdf', 'rb') as file:\n",
    "    reader = PyPDF2.PdfFileReader(file)\n",
    "    page = reader.getPage(0)\n",
    "    page.rotateClockwise(90)\n",
    "    writer = PyPDF2.PdfFileWriter()\n",
    "    writer.addPage(page)\n",
    "    with open('./pdf/result/tilt.pdf', 'wb') as new_file:\n",
    "        writer.write(new_file)\n"
   ]
  },
  {
   "attachments": {},
   "cell_type": "markdown",
   "metadata": {},
   "source": [
    "#### Password Checker"
   ]
  },
  {
   "cell_type": "code",
   "execution_count": 18,
   "metadata": {},
   "outputs": [
    {
     "name": "stdout",
     "output_type": "stream",
     "text": [
      "<Response [200]>\n"
     ]
    }
   ],
   "source": [
    "import requests\n",
    "\n",
    "url = \"https://api.pwnedpasswords.com/range/\" + '12345'\n",
    "res = requests.get(url)\n",
    "print(res)"
   ]
  },
  {
   "cell_type": "code",
   "execution_count": null,
   "metadata": {},
   "outputs": [],
   "source": []
  },
  {
   "attachments": {},
   "cell_type": "markdown",
   "metadata": {},
   "source": [
    "#### Twitter Bot"
   ]
  },
  {
   "cell_type": "code",
   "execution_count": null,
   "metadata": {},
   "outputs": [],
   "source": []
  },
  {
   "attachments": {},
   "cell_type": "markdown",
   "metadata": {},
   "source": [
    "#### SMS With Python"
   ]
  },
  {
   "cell_type": "markdown",
   "metadata": {},
   "source": []
  },
  {
   "cell_type": "markdown",
   "metadata": {},
   "source": []
  },
  {
   "cell_type": "code",
   "execution_count": null,
   "metadata": {},
   "outputs": [],
   "source": []
  }
 ],
 "metadata": {
  "kernelspec": {
   "display_name": "sendoenv",
   "language": "python",
   "name": "python3"
  },
  "language_info": {
   "codemirror_mode": {
    "name": "ipython",
    "version": 3
   },
   "file_extension": ".py",
   "mimetype": "text/x-python",
   "name": "python",
   "nbconvert_exporter": "python",
   "pygments_lexer": "ipython3",
   "version": "3.7.7"
  },
  "orig_nbformat": 4,
  "vscode": {
   "interpreter": {
    "hash": "801e6f9c3bf3192924f2c20ddae949050103f3bcc20e2486443a6ec0795d4b7f"
   }
  }
 },
 "nbformat": 4,
 "nbformat_minor": 2
}
